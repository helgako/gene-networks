{
 "cells": [
  {
   "cell_type": "code",
   "execution_count": null,
   "metadata": {
    "collapsed": true
   },
   "outputs": [],
   "source": []
  },
  {
   "cell_type": "code",
   "execution_count": null,
   "metadata": {
    "collapsed": true
   },
   "outputs": [],
   "source": []
  },
  {
   "cell_type": "code",
   "execution_count": null,
   "metadata": {
    "collapsed": true
   },
   "outputs": [],
   "source": [
    "import numpy as np"
   ]
  },
  {
   "cell_type": "code",
   "execution_count": null,
   "metadata": {
    "collapsed": true
   },
   "outputs": [],
   "source": [
    "# scalar shrinkage operator\n",
    "# returns sgn(x) max(|x| - eps, 0)\n",
    "def ScalarShrinkage(x, eps):\n",
    "    return x[abs(x) < eps] = 0.0\n",
    "\n",
    "# returns U ScalarShrinkage(sigma, eps) V^T\n",
    "def S(x, eps):\n",
    "    U, s, V = np.linalg.svd(x)\n",
    "    return (U.dot(ScalarShrinkage(s, eps))).dot(V.T)\n",
    "\n",
    "# need to process x\n",
    "def P(x, omega):\n",
    "    return x"
   ]
  },
  {
   "cell_type": "code",
   "execution_count": null,
   "metadata": {
    "collapsed": true
   },
   "outputs": [],
   "source": [
    "def compute_optproblem(B1, B2, E, W, l, alpha, omega, N_ITERS = 10, nu1 = 3, nu2 = 3, p = 0.7):\n",
    "    def update_A(Ak, Wk, Ek, Y1k, Y2k, uk):\n",
    "        return S(1 / uk, Wk - Y1k / uk)\n",
    "    \n",
    "    def update_W(Ak, Wk, Ek, Y1k, Y2k, uk):\n",
    "        PWk = P(B1.dot(W).dot(B2.T) + Ek - D + Y2k / uk, omega)\n",
    "        x = Wk - ((B1.T.dot(PWk)).dot(B2) + Wk - Ak - Y1k / uk) / nu1\n",
    "        return ScalarShrinkage(x, l / (uk * nu1))\n",
    "    \n",
    "    def update_E(Ak, Wk, Ek, Y1k, Y2k, uk):\n",
    "        PEk = P(E + (B1.dot(Wk)).dot(B2.T) - D, omega)\n",
    "        x = Ek - (PEk  + Y2k / uk) / nu2\n",
    "        return ScalarShrinkage(x, alpha / (uk * nu2))\n",
    "    \n",
    "    def update_Y1(Ak, Wk, Ek, Y1k, Y2k, uk):        \n",
    "        return Y1k + uk * P((B1.dot(Wk)).dot(B2.T) + Ek - D, omega)\n",
    "    \n",
    "    def update_Y2(Ak, Wk, Ek, Y1k, Y2k, uk):\n",
    "        return Y2k + uk * (Ak - Wk)\n",
    "    \n",
    "    Ak = W.copy()\n",
    "    Wk = W.copy()\n",
    "    Ek = E.copy()\n",
    "    Y1k = 0\n",
    "    Y2k = 0\n",
    "    # what is u0?\n",
    "    uk = 1\n",
    "    \n",
    "    Y1k = update_Y1(Ak, Wk, Ek, Y1k, Y2k, uk, l)\n",
    "    Y2k = update_Y2(Ak, Wk, Ek, Y1k, Y2k, uk, l)\n",
    "    \n",
    "    for i in range(N_ITERS):\n",
    "        Ak = update_A(Ak, Wk, Ek, Y1k, Y2k, uk, l)\n",
    "        Wk = update_W(Ak, Wk, Ek, Y1k, Y2k, uk, l)\n",
    "        Ek = update_E(Ak, Wk, Ek, Y1k, Y2k, uk, l)\n",
    "        Y1k = update_Y1(Ak, Wk, Ek, Y1k, Y2k, uk, l)\n",
    "        Y2k = update_Y2(Ak, Wk, Ek, Y1k, Y2k, uk, l)\n",
    "        uk *= p\n",
    "        \n",
    "    return Wk, Ek"
   ]
  },
  {
   "cell_type": "code",
   "execution_count": null,
   "metadata": {
    "collapsed": true
   },
   "outputs": [],
   "source": [
    "# update omega\n",
    "def supp(E):\n",
    "    return omega\n",
    "\n",
    "def comute_all(B1, B2, E, W, l, alpha, omega, N_ITERS = 10):    \n",
    "    Wk = W\n",
    "    Ek = E\n",
    "    \n",
    "    # what is omega0\n",
    "    omega_k = set()\n",
    "    for i in range(N_ITERS):\n",
    "        Wk, Ek = compute_optproblem(B1, B2, E, W, l, alpha, omega_k)\n",
    "        omega_k = omega_k.difference(supp(Ek))\n",
    "        \n",
    "    return Wk"
   ]
  }
 ],
 "metadata": {
  "kernelspec": {
   "display_name": "Python 2",
   "language": "python",
   "name": "python2"
  },
  "language_info": {
   "codemirror_mode": {
    "name": "ipython",
    "version": 2
   },
   "file_extension": ".py",
   "mimetype": "text/x-python",
   "name": "python",
   "nbconvert_exporter": "python",
   "pygments_lexer": "ipython2",
   "version": "2.7.10"
  }
 },
 "nbformat": 4,
 "nbformat_minor": 1
}
