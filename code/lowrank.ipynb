{
 "cells": [
  {
   "cell_type": "markdown",
   "metadata": {
    "collapsed": true
   },
   "source": [
    "## Problem formulation"
   ]
  },
  {
   "cell_type": "code",
   "execution_count": 18,
   "metadata": {
    "collapsed": false,
    "scrolled": true
   },
   "outputs": [],
   "source": [
    "import pandas as pd\n",
    "import numpy as np\n",
    "timeseries = pd.read_csv(\"insilico_size10_1_timeseries.tsv\", sep='\\t', header=0)\n",
    "\n",
    "#the first column of timeseries is time, each experiment 21 rows\n",
    "timeseries = np.array(timeseries)"
   ]
  },
  {
   "cell_type": "code",
   "execution_count": 19,
   "metadata": {
    "collapsed": false,
    "scrolled": true
   },
   "outputs": [
    {
     "data": {
      "text/plain": [
       "array([[  0.00000000e+00,   6.66511400e-01,   1.27218600e-01, ...,\n",
       "          7.43098300e-01,   6.65636600e-01,   6.95063800e-01],\n",
       "       [  5.00000000e+01,   3.25774800e-01,   1.21822300e-01, ...,\n",
       "          7.56751500e-01,   5.55413800e-01,   7.32716700e-01],\n",
       "       [  1.00000000e+02,   1.77501200e-01,   4.43587000e-02, ...,\n",
       "          6.65699300e-01,   7.21103200e-01,   6.71715600e-01],\n",
       "       ..., \n",
       "       [  9.00000000e+02,   5.60311700e-01,   1.38840500e-01, ...,\n",
       "          6.46766400e-01,   8.13924300e-01,   7.19531900e-01],\n",
       "       [  9.50000000e+02,   6.09001000e-01,   9.41102000e-02, ...,\n",
       "          5.79840000e-01,   7.05499200e-01,   6.78587400e-01],\n",
       "       [  1.00000000e+03,   6.46779500e-01,   1.15380400e-01, ...,\n",
       "          7.45419800e-01,   6.37267700e-01,   7.40571200e-01]])"
      ]
     },
     "execution_count": 19,
     "metadata": {},
     "output_type": "execute_result"
    }
   ],
   "source": [
    "timeseries"
   ]
  },
  {
   "cell_type": "code",
   "execution_count": 23,
   "metadata": {
    "collapsed": true
   },
   "outputs": [],
   "source": [
    "dif_time = np.unique(timeseries[:,0])[1] - np.unique(timeseries[:,0])[0]\n",
    "M = np.unique(timeseries[:,0]).shape[0]\n",
    "p = timeseries.shape[0]/M"
   ]
  },
  {
   "cell_type": "code",
   "execution_count": 25,
   "metadata": {
    "collapsed": false
   },
   "outputs": [],
   "source": [
    "timeseries = timeseries[:,1:]"
   ]
  },
  {
   "cell_type": "code",
   "execution_count": 28,
   "metadata": {
    "collapsed": true
   },
   "outputs": [],
   "source": [
    "#matrix_y - matrix of derivatives\n",
    "def matrix_y(timeseries = timeseries):\n",
    "    x = timeseries.copy()\n",
    "    #leave zeros rows\n",
    "    y = np.zeros((M*p, n))\n",
    "    for i in range(p):\n",
    "        for j in range(1, M):\n",
    "            y[i*M+j,:] = (x[i*M+j,:] - x[i*M+j-1,:])/dif_time\n",
    "    return y    "
   ]
  },
  {
   "cell_type": "code",
   "execution_count": null,
   "metadata": {
    "collapsed": true
   },
   "outputs": [],
   "source": []
  },
  {
   "cell_type": "markdown",
   "metadata": {
    "collapsed": true
   },
   "source": [
    "## Preprocessing"
   ]
  },
  {
   "cell_type": "code",
   "execution_count": null,
   "metadata": {
    "collapsed": true
   },
   "outputs": [],
   "source": []
  },
  {
   "cell_type": "code",
   "execution_count": null,
   "metadata": {
    "collapsed": true
   },
   "outputs": [],
   "source": []
  },
  {
   "cell_type": "markdown",
   "metadata": {},
   "source": [
    "## Algorithms"
   ]
  },
  {
   "cell_type": "code",
   "execution_count": 27,
   "metadata": {
    "collapsed": false
   },
   "outputs": [],
   "source": [
    "# Q = compute_optproblem(B1, B2, E, W, l, alpha, omega, N_ITERS = 10, nu1 = 3, nu2 = 3, p = 0.7)\n",
    "n = timeseries.shape[1]\n",
    "def Phi_b(i, j, timeseries = timeseries):\n",
    "    Fb_self = timeseries[i*M+j,:]\n",
    "    Fb_connect = Fb_self/(1+Fb_self)\n",
    "    Fb = np.hstack((Fb_self,Fb_connect))\n",
    "    Fb = np.hstack((Fb, Fb_connect))\n",
    "    I = np.eye(n)\n",
    "    Phi_b = np.kron(Fb, I)\n",
    "    return Phi_b\n",
    "    "
   ]
  },
  {
   "cell_type": "code",
   "execution_count": null,
   "metadata": {
    "collapsed": true
   },
   "outputs": [],
   "source": [
    "import numpy as np"
   ]
  },
  {
   "cell_type": "code",
   "execution_count": null,
   "metadata": {
    "collapsed": true
   },
   "outputs": [],
   "source": [
    "# scalar shrinkage operator\n",
    "# returns sgn(x) max(|x| - eps, 0)\n",
    "def ScalarShrinkage(x, eps):\n",
    "    return x[abs(x) < eps] = 0.0\n",
    "\n",
    "# returns U ScalarShrinkage(sigma, eps) V^T\n",
    "def S(x, eps):\n",
    "    U, s, V = np.linalg.svd(x)\n",
    "    return (U.dot(ScalarShrinkage(s, eps))).dot(V.T)\n",
    "\n",
    "# need to process x\n",
    "def P(x, omega):\n",
    "    return x"
   ]
  },
  {
   "cell_type": "code",
   "execution_count": null,
   "metadata": {
    "collapsed": true
   },
   "outputs": [],
   "source": [
    "def compute_optproblem(B1, B2, E, W, l, alpha, omega, N_ITERS = 10, nu1 = 3, nu2 = 3, p = 0.7):\n",
    "    def update_A(Ak, Wk, Ek, Y1k, Y2k, uk):\n",
    "        return S(1 / uk, Wk - Y1k / uk)\n",
    "    \n",
    "    def update_W(Ak, Wk, Ek, Y1k, Y2k, uk):\n",
    "        PWk = P(B1.dot(W).dot(B2.T) + Ek - D + Y2k / uk, omega)\n",
    "        x = Wk - ((B1.T.dot(PWk)).dot(B2) + Wk - Ak - Y1k / uk) / nu1\n",
    "        return ScalarShrinkage(x, l / (uk * nu1))\n",
    "    \n",
    "    def update_E(Ak, Wk, Ek, Y1k, Y2k, uk):\n",
    "        PEk = P(E + (B1.dot(Wk)).dot(B2.T) - D, omega)\n",
    "        x = Ek - (PEk  + Y2k / uk) / nu2\n",
    "        return ScalarShrinkage(x, alpha / (uk * nu2))\n",
    "    \n",
    "    def update_Y1(Ak, Wk, Ek, Y1k, Y2k, uk):        \n",
    "        return Y1k + uk * P((B1.dot(Wk)).dot(B2.T) + Ek - D, omega)\n",
    "    \n",
    "    def update_Y2(Ak, Wk, Ek, Y1k, Y2k, uk):\n",
    "        return Y2k + uk * (Ak - Wk)\n",
    "    \n",
    "    Ak = W.copy()\n",
    "    Wk = W.copy()\n",
    "    Ek = E.copy()\n",
    "    Y1k = 0\n",
    "    Y2k = 0\n",
    "    # what is u0?\n",
    "    uk = 1\n",
    "    \n",
    "    Y1k = update_Y1(Ak, Wk, Ek, Y1k, Y2k, uk, l)\n",
    "    Y2k = update_Y2(Ak, Wk, Ek, Y1k, Y2k, uk, l)\n",
    "    \n",
    "    for i in range(N_ITERS):\n",
    "        Ak = update_A(Ak, Wk, Ek, Y1k, Y2k, uk, l)\n",
    "        Wk = update_W(Ak, Wk, Ek, Y1k, Y2k, uk, l)\n",
    "        Ek = update_E(Ak, Wk, Ek, Y1k, Y2k, uk, l)\n",
    "        Y1k = update_Y1(Ak, Wk, Ek, Y1k, Y2k, uk, l)\n",
    "        Y2k = update_Y2(Ak, Wk, Ek, Y1k, Y2k, uk, l)\n",
    "        uk *= p\n",
    "        \n",
    "    return Wk, Ek"
   ]
  },
  {
   "cell_type": "code",
   "execution_count": null,
   "metadata": {
    "collapsed": true
   },
   "outputs": [],
   "source": [
    "# update omega\n",
    "def supp(E):\n",
    "    return omega\n",
    "\n",
    "def comute_all(B1, B2, E, W, l, alpha, omega, N_ITERS = 10):    \n",
    "    Wk = W\n",
    "    Ek = E\n",
    "    \n",
    "    # what is omega0\n",
    "    omega_k = set()\n",
    "    for i in range(N_ITERS):\n",
    "        Wk, Ek = compute_optproblem(B1, B2, E, W, l, alpha, omega_k)\n",
    "        omega_k = omega_k.difference(supp(Ek))\n",
    "        \n",
    "    return Wk"
   ]
  },
  {
   "cell_type": "code",
   "execution_count": null,
   "metadata": {
    "collapsed": true
   },
   "outputs": [],
   "source": []
  },
  {
   "cell_type": "code",
   "execution_count": null,
   "metadata": {
    "collapsed": true
   },
   "outputs": [],
   "source": []
  },
  {
   "cell_type": "markdown",
   "metadata": {},
   "source": [
    "## Vizualizations"
   ]
  },
  {
   "cell_type": "code",
   "execution_count": null,
   "metadata": {
    "collapsed": true
   },
   "outputs": [],
   "source": []
  }
 ],
 "metadata": {
  "anaconda-cloud": {},
  "kernelspec": {
   "display_name": "Python [default]",
   "language": "python",
   "name": "python2"
  },
  "language_info": {
   "codemirror_mode": {
    "name": "ipython",
    "version": 2
   },
   "file_extension": ".py",
   "mimetype": "text/x-python",
   "name": "python",
   "nbconvert_exporter": "python",
   "pygments_lexer": "ipython2",
   "version": "2.7.12"
  }
 },
 "nbformat": 4,
 "nbformat_minor": 1
}
